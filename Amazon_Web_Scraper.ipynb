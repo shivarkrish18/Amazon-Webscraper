{
  "nbformat": 4,
  "nbformat_minor": 0,
  "metadata": {
    "colab": {
      "provenance": [],
      "authorship_tag": "ABX9TyOeiZDZmSprzLx1pO326I1O",
      "include_colab_link": true
    },
    "kernelspec": {
      "name": "python3",
      "display_name": "Python 3"
    },
    "language_info": {
      "name": "python"
    }
  },
  "cells": [
    {
      "cell_type": "markdown",
      "metadata": {
        "id": "view-in-github",
        "colab_type": "text"
      },
      "source": [
        "<a href=\"https://colab.research.google.com/github/shivarkrish18/college-projects/blob/main/Amazon_Web_Scraper.ipynb\" target=\"_parent\"><img src=\"https://colab.research.google.com/assets/colab-badge.svg\" alt=\"Open In Colab\"/></a>"
      ]
    },
    {
      "cell_type": "code",
      "execution_count": 10,
      "metadata": {
        "colab": {
          "base_uri": "https://localhost:8080/"
        },
        "id": "oS3wyQBNUEmL",
        "outputId": "570e5b10-8ac7-4360-bce6-3c85e214b7f1"
      },
      "outputs": [
        {
          "output_type": "stream",
          "name": "stdout",
          "text": [
            "Downloading https://www.amazon.in/boAt-Portable-Immersive-Resistance-Multi-Connectivity/dp/B0B12Q8K2X/ref=asc_df_B0B12Q8K2X/?tag=googleshopdes-21&linkCode=df0&hvadid=586449675995&hvpos=&hvnetw=g&hvrand=5122732267928911094&hvpone=&hvptwo=&hvqmt=&hvdev=c&hvdvcmdl=&hvlocint=&hvlocphy=1007810&hvtargid=pla-1677663799815&psc=1\n",
            "{'name': 'boAt Stone 135 Portable Wireless Speaker with 5W RMS Immersive Sound, IPX4 Water Resistance, True Wireless Feature, Up to 11H Total Playtime, Multi-Connectivity Modes(Active Black)', 'price': None, 'short_description': 'About this item Power- Get ready to be enthralled by the 5W RMS sound on Stone 135 portable wireless speakers. True Wireless- It supports TWS functionality, meaning you can connect two Stone 135s together and simultaneously play music on both of them for twice the impact. Playback- The speaker offers up to a total of 11 hours of playtime per single charge at 80% volume level. IP Rating- With a lightweight speaker that offers an IPX4 marked resistance against water and splashes, you can enjoy your playlists across terrains in a carefree and hassle-free way. Connectivity- You can enjoy your playlists via multiple connectivity modes namely Bluetooth, FM Mode and TF Card. Controls- You can control playback, adjust volume levels, activate default voice assistant, etc., with ease courtesy easy to access controls. Calling and Mic- The speaker also supports handsfree calling feature as it has a built-in mic as well. Note- Kindly remove the sticky translucent film from the bottom of the speaker before you start using it. \\x9b See more product details', 'images': '{\"https://m.media-amazon.com/images/I/61BZ1cEl6oL._SX425_.jpg\":[425,425],\"https://m.media-amazon.com/images/I/61BZ1cEl6oL._SX522_.jpg\":[522,522],\"https://m.media-amazon.com/images/I/61BZ1cEl6oL._SX466_.jpg\":[466,466],\"https://m.media-amazon.com/images/I/61BZ1cEl6oL._SX679_.jpg\":[679,679],\"https://m.media-amazon.com/images/I/61BZ1cEl6oL._SY450_.jpg\":[450,450],\"https://m.media-amazon.com/images/I/61BZ1cEl6oL._SX569_.jpg\":[569,569],\"https://m.media-amazon.com/images/I/61BZ1cEl6oL._SY355_.jpg\":[355,355]}', 'rating': None, 'number_of_reviews': None, 'variants': None, 'product_description': None, 'sales_rank': None, 'link_to_all_reviews': '/boAt-Portable-Immersive-Resistance-Multi-Connectivity/product-reviews/B0B12Q8K2X?reviewerType=all_reviews'}\n"
          ]
        }
      ],
      "source": [
        "from selectorlib import Extractor\n",
        "import requests \n",
        "import json \n",
        "from time import sleep\n",
        "\n",
        "\n",
        "ex = Extractor.from_yaml_file('selectors.yml')\n",
        "\n",
        "def scraper(url):  \n",
        "\n",
        "    headers = {\n",
        "        'dnt': '1',\n",
        "        'upgrade-insecure-requests': '1',\n",
        "        'user-agent': 'Mozilla/5.0 (Macintosh; Intel Mac OS X 10_15_4) AppleWebKit/537.36 (KHTML, like Gecko) Chrome/83.0.4103.61 Safari/537.36',\n",
        "        'accept': 'text/html,application/xhtml+xml,application/xml;q=0.9,image/webp,image/apng,*/*;q=0.8,application/signed-exchange;v=b3;q=0.9',\n",
        "        'sec-fetch-site': 'same-origin',\n",
        "        'sec-fetch-mode': 'navigate',\n",
        "        'sec-fetch-user': '?1',\n",
        "        'sec-fetch-dest': 'document',\n",
        "        'referer': 'https://www.amazon.com/',\n",
        "        'accept-language': 'en-GB,en-US;q=0.9,en;q=0.8',\n",
        "    }\n",
        "\n",
        "\n",
        "    print(\"Downloading %s\"%url)\n",
        "    resp = requests.get(url, headers=headers)\n",
        "\n",
        "#Check if page was blocked\n",
        "    if resp.status_code > 500:\n",
        "        if \"To discuss automated access to Amazon data please contact\" in resp.text:\n",
        "            print(\"Page %s was blocked by Amazon. Please try using better proxies\\n\"%url)\n",
        "        else:\n",
        "            print(\"Page %s must have been blocked by Amazon as the status code was %d\"%(url,resp.status_code))\n",
        "        return None\n",
        "\n",
        "    return ex.extract(resp.text)\n",
        "\n",
        "listt=[]\n",
        "with open(\"urls.txt\",'r') as urllist, open('output.jsonl','w') as outfile:\n",
        "    for url in urllist.read().splitlines():\n",
        "        data = scraper(url)         \n",
        "        if data:\n",
        "            listt.append(data)\n",
        "            json.dump(data,outfile)\n",
        "            outfile.write(\"\\n\")           \n",
        "            \n",
        "\n",
        "for i in listt:\n",
        "  print(i) \n",
        "\n",
        "\n",
        "\n",
        "    "
      ]
    },
    {
      "cell_type": "code",
      "source": [
        "import os\n",
        "os.getcwd()"
      ],
      "metadata": {
        "colab": {
          "base_uri": "https://localhost:8080/",
          "height": 35
        },
        "id": "C8L8X2FFU_m9",
        "outputId": "88e1c9b1-da9b-4618-e251-e0351f1430e9"
      },
      "execution_count": 2,
      "outputs": [
        {
          "output_type": "execute_result",
          "data": {
            "text/plain": [
              "'/content'"
            ],
            "application/vnd.google.colaboratory.intrinsic+json": {
              "type": "string"
            }
          },
          "metadata": {},
          "execution_count": 2
        }
      ]
    },
    {
      "cell_type": "code",
      "source": [
        "pip install -r requirements.txt"
      ],
      "metadata": {
        "colab": {
          "base_uri": "https://localhost:8080/"
        },
        "id": "3YdpOKANUhJ4",
        "outputId": "0cf00364-3e55-4f73-b0c2-f46245b4595d"
      },
      "execution_count": 3,
      "outputs": [
        {
          "output_type": "stream",
          "name": "stdout",
          "text": [
            "Looking in indexes: https://pypi.org/simple, https://us-python.pkg.dev/colab-wheels/public/simple/\n",
            "Collecting selectorlib\n",
            "  Downloading selectorlib-0.16.0-py2.py3-none-any.whl (5.8 kB)\n",
            "Requirement already satisfied: requests in /usr/local/lib/python3.7/dist-packages (from -r requirements.txt (line 2)) (2.23.0)\n",
            "Collecting parsel>=1.5.1\n",
            "  Downloading parsel-1.7.0-py2.py3-none-any.whl (14 kB)\n",
            "Requirement already satisfied: pyyaml>=3.12 in /usr/local/lib/python3.7/dist-packages (from selectorlib->-r requirements.txt (line 1)) (6.0)\n",
            "Requirement already satisfied: Click>=6.0 in /usr/local/lib/python3.7/dist-packages (from selectorlib->-r requirements.txt (line 1)) (7.1.2)\n",
            "Collecting w3lib>=1.19.0\n",
            "  Downloading w3lib-2.1.0-py3-none-any.whl (21 kB)\n",
            "Collecting cssselect>=0.9\n",
            "  Downloading cssselect-1.2.0-py2.py3-none-any.whl (18 kB)\n",
            "Requirement already satisfied: lxml in /usr/local/lib/python3.7/dist-packages (from parsel>=1.5.1->selectorlib->-r requirements.txt (line 1)) (4.9.1)\n",
            "Requirement already satisfied: packaging in /usr/local/lib/python3.7/dist-packages (from parsel>=1.5.1->selectorlib->-r requirements.txt (line 1)) (21.3)\n",
            "Requirement already satisfied: certifi>=2017.4.17 in /usr/local/lib/python3.7/dist-packages (from requests->-r requirements.txt (line 2)) (2022.9.24)\n",
            "Requirement already satisfied: urllib3!=1.25.0,!=1.25.1,<1.26,>=1.21.1 in /usr/local/lib/python3.7/dist-packages (from requests->-r requirements.txt (line 2)) (1.24.3)\n",
            "Requirement already satisfied: idna<3,>=2.5 in /usr/local/lib/python3.7/dist-packages (from requests->-r requirements.txt (line 2)) (2.10)\n",
            "Requirement already satisfied: chardet<4,>=3.0.2 in /usr/local/lib/python3.7/dist-packages (from requests->-r requirements.txt (line 2)) (3.0.4)\n",
            "Requirement already satisfied: pyparsing!=3.0.5,>=2.0.2 in /usr/local/lib/python3.7/dist-packages (from packaging->parsel>=1.5.1->selectorlib->-r requirements.txt (line 1)) (3.0.9)\n",
            "Installing collected packages: w3lib, cssselect, parsel, selectorlib\n",
            "Successfully installed cssselect-1.2.0 parsel-1.7.0 selectorlib-0.16.0 w3lib-2.1.0\n"
          ]
        }
      ]
    }
  ]
}